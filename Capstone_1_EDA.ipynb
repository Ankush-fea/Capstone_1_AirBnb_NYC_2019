{
  "nbformat": 4,
  "nbformat_minor": 0,
  "metadata": {
    "colab": {
      "name": "Capstone_1_EDA.ipynb",
      "provenance": [],
      "collapsed_sections": [
        "3-0MuAoSWVqo",
        "XEU5ONDzWoMZ",
        "EQ55qZZhWEuO",
        "HirMSu3Rmb6f",
        "4ZRHEc5deeng",
        "FwHCdSZxetPw",
        "mpcepbgIfE2K",
        "3gbkxX5-f4qs"
      ],
      "include_colab_link": true
    },
    "kernelspec": {
      "name": "python3",
      "display_name": "Python 3"
    }
  },
  "cells": [
    {
      "cell_type": "markdown",
      "metadata": {
        "id": "view-in-github",
        "colab_type": "text"
      },
      "source": [
        "<a href=\"https://colab.research.google.com/github/Ankush-fea/Capstone_1_AirBnb_NYC_2019/blob/main/Capstone_1_EDA.ipynb\" target=\"_parent\"><img src=\"https://colab.research.google.com/assets/colab-badge.svg\" alt=\"Open In Colab\"/></a>"
      ]
    },
    {
      "cell_type": "markdown",
      "metadata": {
        "id": "XA-b8BLzYrbe"
      },
      "source": [
        "\n",
        "\n",
        "---\n",
        "\n",
        "\n",
        "# Capstone 1 : *EDA_Airbnb_NYC_2019*\n",
        "\n",
        "The analysis has been done from perpective of:\n",
        "\n",
        "1.) Marketing and Advertisement.\n",
        "\n",
        "2.) Buying a property and starting rental buiseness.\n",
        "\n",
        "3.) Job personal preference.\n"
      ]
    },
    {
      "cell_type": "markdown",
      "source": [
        "# Drive mounting & File path"
      ],
      "metadata": {
        "id": "3-0MuAoSWVqo"
      }
    },
    {
      "cell_type": "code",
      "source": [
        "# Mount the drive\n",
        "from google.colab import drive\n",
        "drive.mount('/content/drive')\n"
      ],
      "metadata": {
        "colab": {
          "base_uri": "https://localhost:8080/"
        },
        "id": "etfJ0_gKvsjD",
        "outputId": "3bf798d0-8b4f-4880-9441-341f75bfa3e2"
      },
      "execution_count": 1,
      "outputs": [
        {
          "output_type": "stream",
          "name": "stdout",
          "text": [
            "Mounted at /content/drive\n"
          ]
        }
      ]
    },
    {
      "cell_type": "code",
      "source": [
        "# File path\n",
        "path = \"/content/drive/MyDrive/AlmaBetter/Capstone/1.EDA/AirbnbNYC2019-210324-121446.xlsx\""
      ],
      "metadata": {
        "id": "DwZvKHaCbafI"
      },
      "execution_count": 2,
      "outputs": []
    },
    {
      "cell_type": "markdown",
      "source": [
        "#Importing libraries\n"
      ],
      "metadata": {
        "id": "XEU5ONDzWoMZ"
      }
    },
    {
      "cell_type": "code",
      "source": [
        "# Import necessary libraries\n",
        "import pandas as pd\n",
        "import numpy as np\n",
        "import matplotlib.pyplot as plt\n",
        "import seaborn as sns\n",
        "airbnb_df = pd.read_excel(path)"
      ],
      "metadata": {
        "id": "MK7gogCpwzeC"
      },
      "execution_count": 3,
      "outputs": []
    },
    {
      "cell_type": "markdown",
      "source": [
        "#Data Cleaning"
      ],
      "metadata": {
        "id": "EQ55qZZhWEuO"
      }
    },
    {
      "cell_type": "code",
      "source": [
        "# Info about data\n",
        "airbnb_df.info()"
      ],
      "metadata": {
        "colab": {
          "base_uri": "https://localhost:8080/"
        },
        "id": "35ELPgGpw-Qj",
        "outputId": "91472b94-0de2-495e-e121-ed04687806a5"
      },
      "execution_count": 7,
      "outputs": [
        {
          "output_type": "stream",
          "name": "stdout",
          "text": [
            "<class 'pandas.core.frame.DataFrame'>\n",
            "RangeIndex: 48895 entries, 0 to 48894\n",
            "Data columns (total 16 columns):\n",
            " #   Column                          Non-Null Count  Dtype  \n",
            "---  ------                          --------------  -----  \n",
            " 0   id                              48895 non-null  int64  \n",
            " 1   name                            48895 non-null  object \n",
            " 2   host_id                         48895 non-null  int64  \n",
            " 3   host_name                       48895 non-null  object \n",
            " 4   neighbourhood_group             48895 non-null  object \n",
            " 5   neighbourhood                   48895 non-null  object \n",
            " 6   latitude                        48895 non-null  float64\n",
            " 7   longitude                       48895 non-null  float64\n",
            " 8   room_type                       48895 non-null  object \n",
            " 9   price                           48895 non-null  int64  \n",
            " 10  minimum_nights                  48895 non-null  int64  \n",
            " 11  number_of_reviews               48895 non-null  int64  \n",
            " 12  last_review                     48895 non-null  object \n",
            " 13  reviews_per_month               48895 non-null  float64\n",
            " 14  calculated_host_listings_count  48895 non-null  int64  \n",
            " 15  availability_365                48895 non-null  int64  \n",
            "dtypes: float64(3), int64(7), object(6)\n",
            "memory usage: 6.0+ MB\n"
          ]
        }
      ]
    },
    {
      "cell_type": "markdown",
      "source": [
        "Inference: There are 16 columns and 48895 rows. The columns are having different data type like integer, float, object. "
      ],
      "metadata": {
        "id": "PWgIwaoyXbCx"
      }
    },
    {
      "cell_type": "code",
      "source": [
        "# Finding number of null items in columns\n",
        "print(airbnb_df.isnull().sum())"
      ],
      "metadata": {
        "colab": {
          "base_uri": "https://localhost:8080/"
        },
        "id": "CBLoJrN9a0Ug",
        "outputId": "94edf885-10fa-4f08-da06-cac33b2653ce"
      },
      "execution_count": 8,
      "outputs": [
        {
          "output_type": "stream",
          "name": "stdout",
          "text": [
            "id                                0\n",
            "name                              0\n",
            "host_id                           0\n",
            "host_name                         0\n",
            "neighbourhood_group               0\n",
            "neighbourhood                     0\n",
            "latitude                          0\n",
            "longitude                         0\n",
            "room_type                         0\n",
            "price                             0\n",
            "minimum_nights                    0\n",
            "number_of_reviews                 0\n",
            "last_review                       0\n",
            "reviews_per_month                 0\n",
            "calculated_host_listings_count    0\n",
            "availability_365                  0\n",
            "dtype: int64\n"
          ]
        }
      ]
    },
    {
      "cell_type": "markdown",
      "source": [
        "Inference: There are 4 columns which are having null value.\n",
        "\n",
        "For columns: *name* and *host_name* we will replace null value by \"Not Applicable\".\n",
        "\n",
        "For columns: *last_review* and *reviews_per_month* we replace null value by 0."
      ],
      "metadata": {
        "id": "I7Fx3AMHbDrN"
      }
    },
    {
      "cell_type": "code",
      "source": [
        "# Replacing all null values\n",
        "airbnb_df['name'].fillna(\"Not Applicable\", inplace = True)\n",
        "airbnb_df['host_name'].fillna(\"Not Applicable\", inplace = True)\n",
        "airbnb_df['last_review'].fillna(0, inplace = True)\n",
        "airbnb_df['reviews_per_month'].fillna(0, inplace = True)\n",
        "# Checking if there is any null value\n",
        "print(airbnb_df.isnull().any())"
      ],
      "metadata": {
        "colab": {
          "base_uri": "https://localhost:8080/"
        },
        "id": "WzFCsEn9c9_K",
        "outputId": "7ac2afb6-dd58-463d-b5d7-61aa424d4882"
      },
      "execution_count": 9,
      "outputs": [
        {
          "output_type": "stream",
          "name": "stdout",
          "text": [
            "id                                False\n",
            "name                              False\n",
            "host_id                           False\n",
            "host_name                         False\n",
            "neighbourhood_group               False\n",
            "neighbourhood                     False\n",
            "latitude                          False\n",
            "longitude                         False\n",
            "room_type                         False\n",
            "price                             False\n",
            "minimum_nights                    False\n",
            "number_of_reviews                 False\n",
            "last_review                       False\n",
            "reviews_per_month                 False\n",
            "calculated_host_listings_count    False\n",
            "availability_365                  False\n",
            "dtype: bool\n"
          ]
        }
      ]
    },
    {
      "cell_type": "markdown",
      "source": [
        "There are no null values, data has cleaned and ready for analysis."
      ],
      "metadata": {
        "id": "oMjDkcvwlRwi"
      }
    },
    {
      "cell_type": "markdown",
      "source": [
        "# Exploring Data"
      ],
      "metadata": {
        "id": "HirMSu3Rmb6f"
      }
    },
    {
      "cell_type": "code",
      "source": [
        "# Finding no. of unique value of all columns.\n",
        "airbnb_df.nunique()"
      ],
      "metadata": {
        "colab": {
          "base_uri": "https://localhost:8080/"
        },
        "id": "GFCck-PllP16",
        "outputId": "0d101398-59c9-4b08-f8e6-3353b0d48286"
      },
      "execution_count": 10,
      "outputs": [
        {
          "output_type": "execute_result",
          "data": {
            "text/plain": [
              "id                                48895\n",
              "name                              47896\n",
              "host_id                           37457\n",
              "host_name                         11452\n",
              "neighbourhood_group                   5\n",
              "neighbourhood                       221\n",
              "latitude                          19048\n",
              "longitude                         14718\n",
              "room_type                             3\n",
              "price                               674\n",
              "minimum_nights                      109\n",
              "number_of_reviews                   394\n",
              "last_review                        1765\n",
              "reviews_per_month                   938\n",
              "calculated_host_listings_count       47\n",
              "availability_365                    366\n",
              "dtype: int64"
            ]
          },
          "metadata": {},
          "execution_count": 10
        }
      ]
    },
    {
      "cell_type": "markdown",
      "source": [
        "Inference: \n",
        "1. All data ids of listing are unique so there in no duplicacy.\n",
        "2. Host_name have been repeated, so some customer have stayed in different property.\n",
        "3. New york is divided in 5 group.\n",
        "4. There are 3 types of room rented in New york."
      ],
      "metadata": {
        "id": "nLHCkfsInpT7"
      }
    },
    {
      "cell_type": "markdown",
      "source": [
        "# 1. No of Airbnb listing according to neighbourhood group."
      ],
      "metadata": {
        "id": "4ZRHEc5deeng"
      }
    },
    {
      "cell_type": "code",
      "source": [
        "# Finding no. of Airbnb listing neighbourhood_group wise. \n",
        "groupwise_listing = airbnb_df[\"neighbourhood_group\"].value_counts(sort=True)\n",
        "plt.figure(figsize=(5,5))\n",
        "plt.bar(groupwise_listing.index,groupwise_listing, color = 'red', width = 0.5 )\n",
        "plt.xlabel(\"Neighbourhood Group\")\n",
        "plt.ylabel(\"No of listing\")\n",
        "plt.show()\n",
        "\n",
        "# Showing data percentage wise\n",
        "plt.figure(figsize=(7,7))\n",
        "plt.pie(groupwise_listing,labels = groupwise_listing.index, autopct='%1.1f%%' )\n",
        "plt.title(\"\\n Groupwise listing\")\n",
        "plt.show()"
      ],
      "metadata": {
        "id": "xfzE9d_wnpAC",
        "colab": {
          "base_uri": "https://localhost:8080/",
          "height": 0
        },
        "outputId": "2fe0799a-d410-41ba-90b9-a557e93a9113"
      },
      "execution_count": 11,
      "outputs": [
        {
          "output_type": "display_data",
          "data": {
            "text/plain": [
              "<Figure size 360x360 with 1 Axes>"
            ],
            "image/png": "[encoded data removed]"
          },
          "metadata": {
            "needs_background": "light"
          }
        },
        {
          "output_type": "display_data",
          "data": {
            "text/plain": [
              "<Figure size 504x504 with 1 Axes>"
            ],
            "image/png": "[encoded data removed]"
          },
          "metadata": {}
        }
      ]
    },
    {
      "cell_type": "markdown",
      "source": [
        "Result:\n",
        "1. Manhatten & Brooklyn are having high no. of listing.\n",
        "2. Staten island and Bronx have low no. of listing.\n",
        "\n",
        "Inference:\n",
        "1. If I want to do advertisement or marketing for selling flats I will focus on Manhatten and Brooklyn.\n"
      ],
      "metadata": {
        "id": "yq5xHP6NGMgO"
      }
    },
    {
      "cell_type": "markdown",
      "source": [
        "# 2. Average cost price of different neighbourhood group.\n"
      ],
      "metadata": {
        "id": "FwHCdSZxetPw"
      }
    },
    {
      "cell_type": "code",
      "source": [
        "# Finding average cost price of different neighbourhood group.\n",
        "average_price = airbnb_df.groupby('neighbourhood_group')['price'].mean()\n",
        "average_price.sort_values(ascending = False, inplace = True)\n",
        "plt.bar( average_price.index, average_price, color = 'red', width = 0.5 )\n",
        "plt.show()\n",
        "\n",
        "# Plotting price density distribution for 90 percent of listing \n",
        "\n",
        "price_90percent = airbnb_df.groupby('neighbourhood_group')['price'].quantile(.9)\n",
        "listing = airbnb_df[airbnb_df.price< max(price_90percent)]\n",
        "sns.boxplot(x = listing['neighbourhood_group'], y = listing['price'])\n",
        "plt.show()\n",
        "# Violin graph read."
      ],
      "metadata": {
        "colab": {
          "base_uri": "https://localhost:8080/",
          "height": 0
        },
        "id": "Prbi8rkkFh0H",
        "outputId": "d79de80c-7368-4656-8cc7-3cd998c8a26e"
      },
      "execution_count": 12,
      "outputs": [
        {
          "output_type": "display_data",
          "data": {
            "text/plain": [
              "<Figure size 432x288 with 1 Axes>"
            ],
            "image/png": "[encoded data removed]"
          },
          "metadata": {
            "needs_background": "light"
          }
        },
        {
          "output_type": "display_data",
          "data": {
            "text/plain": [
              "<Figure size 432x288 with 1 Axes>"
            ],
            "image/png": "[encoded data removed]"
          },
          "metadata": {
            "needs_background": "light"
          }
        }
      ]
    },
    {
      "cell_type": "markdown",
      "source": [
        "Result: \n",
        "1. Order of costliest neighbourhood group on basis of average price and price distribution \n",
        "\n",
        "  => Manhattan > Brooklyn > Staten Island > Queens > Bronx.\n",
        "\n",
        "2. Staten Island was having least no. of listing but it is not the cheapest.\n",
        "\n",
        "Inference:\n",
        "\n",
        "1. If I am doing job I will first prefer to look for job in Bronx so that maximum saving can be done.\n",
        "2. From perpective of purchasing property  I will prefer Queens as it is having property listing and mean price for renting is not to high thus cost of buying property will be low.\n"
      ],
      "metadata": {
        "id": "fccGfI4Ub8U3"
      }
    },
    {
      "cell_type": "markdown",
      "source": [
        "# 3. Room type preference in NYC"
      ],
      "metadata": {
        "id": "mpcepbgIfE2K"
      }
    },
    {
      "cell_type": "code",
      "source": [
        "# Q. In NYC which type of room is most preferred?\n",
        "plt.figure(figsize=(13,7))\n",
        "plt.title(\"Room type preference\")\n",
        "plt.pie(airbnb_df.room_type.value_counts(), labels = airbnb_df.room_type.value_counts().index,autopct='%1.1f%%', startangle=180)\n",
        "plt.show()\n",
        "# Histogram\n",
        "plt.figure(figsize=(13,7))\n",
        "plt.title(\"Type of Room\")\n",
        "sns.countplot(airbnb_df.room_type, palette=\"muted\")\n",
        "plt.show()"
      ],
      "metadata": {
        "colab": {
          "base_uri": "https://localhost:8080/",
          "height": 0
        },
        "id": "JoMw4uZe58PX",
        "outputId": "3e623cd7-3dcc-468a-8de2-216ae791df1e"
      },
      "execution_count": 13,
      "outputs": [
        {
          "output_type": "display_data",
          "data": {
            "text/plain": [
              "<Figure size 936x504 with 1 Axes>"
            ],
            "image/png": "[encoded data removed]"
          },
          "metadata": {}
        },
        {
          "output_type": "stream",
          "name": "stderr",
          "text": [
            "/usr/local/lib/python3.7/dist-packages/seaborn/_decorators.py:43: FutureWarning: Pass the following variable as a keyword arg: x. From version 0.12, the only valid positional argument will be `data`, and passing other arguments without an explicit keyword will result in an error or misinterpretation.\n",
            "  FutureWarning\n"
          ]
        },
        {
          "output_type": "display_data",
          "data": {
            "text/plain": [
              "<Figure size 936x504 with 1 Axes>"
            ],
            "image/png": "[encoded data removed]"
          },
          "metadata": {
            "needs_background": "light"
          }
        }
      ]
    },
    {
      "cell_type": "markdown",
      "source": [
        "# 4. Room type according to neighbourhood group."
      ],
      "metadata": {
        "id": "3gbkxX5-f4qs"
      }
    },
    {
      "cell_type": "code",
      "source": [
        "# Q In each neighbourhood group type which room type is most preferred?\n",
        "plt.figure(figsize=(13,7))\n",
        "plt.title(\"Room Type on Neighbourhood Group\")\n",
        "sns.countplot(airbnb_df.neighbourhood_group,hue=airbnb_df.room_type, palette=\"muted\")\n",
        "plt.show()"
      ],
      "metadata": {
        "colab": {
          "base_uri": "https://localhost:8080/",
          "height": 0
        },
        "id": "H8NuQYiPDwjU",
        "outputId": "37f27dba-146c-4494-bdb5-46e11a3f94fc"
      },
      "execution_count": 14,
      "outputs": [
        {
          "output_type": "stream",
          "name": "stderr",
          "text": [
            "/usr/local/lib/python3.7/dist-packages/seaborn/_decorators.py:43: FutureWarning: Pass the following variable as a keyword arg: x. From version 0.12, the only valid positional argument will be `data`, and passing other arguments without an explicit keyword will result in an error or misinterpretation.\n",
            "  FutureWarning\n"
          ]
        },
        {
          "output_type": "display_data",
          "data": {
            "text/plain": [
              "<Figure size 936x504 with 1 Axes>"
            ],
            "image/png": "[encoded data removed]"
          },
          "metadata": {
            "needs_background": "light"
          }
        }
      ]
    },
    {
      "cell_type": "markdown",
      "source": [
        "#5. Revenue generated by property"
      ],
      "metadata": {
        "id": "qPAGRxNy7rCq"
      }
    },
    {
      "cell_type": "code",
      "source": [
        "#Revenue generated by different property\n",
        "airbnb_df[\"revenue_generated\"] = (365-airbnb_df[\"availability_365\"]) * airbnb_df[\"price\"]\n",
        "airbnb_df.head()"
      ],
      "metadata": {
        "id": "x3HIh8sjJJtJ",
        "colab": {
          "base_uri": "https://localhost:8080/",
          "height": 461
        },
        "outputId": "66397800-87d5-4c55-a7eb-ddfaacacfed2"
      },
      "execution_count": 15,
      "outputs": [
        {
          "output_type": "execute_result",
          "data": {
            "text/plain": [
              "     id                                              name  host_id  \\\n",
              "0  2539                Clean & quiet apt home by the park     2787   \n",
              "1  2595                             Skylit Midtown Castle     2845   \n",
              "2  3647               THE VILLAGE OF HARLEM....NEW YORK !     4632   \n",
              "3  3831                   Cozy Entire Floor of Brownstone     4869   \n",
              "4  5022  Entire Apt: Spacious Studio/Loft by central park     7192   \n",
              "\n",
              "     host_name neighbourhood_group neighbourhood  latitude  longitude  \\\n",
              "0         John            Brooklyn    Kensington  40.64749  -73.97237   \n",
              "1     Jennifer           Manhattan       Midtown  40.75362  -73.98377   \n",
              "2    Elisabeth           Manhattan        Harlem  40.80902  -73.94190   \n",
              "3  LisaRoxanne            Brooklyn  Clinton Hill  40.68514  -73.95976   \n",
              "4        Laura           Manhattan   East Harlem  40.79851  -73.94399   \n",
              "\n",
              "         room_type  price  minimum_nights  number_of_reviews  \\\n",
              "0     Private room    149               1                  9   \n",
              "1  Entire home/apt    225               1                 45   \n",
              "2     Private room    150               3                  0   \n",
              "3  Entire home/apt     89               1                270   \n",
              "4  Entire home/apt     80              10                  9   \n",
              "\n",
              "           last_review  reviews_per_month  calculated_host_listings_count  \\\n",
              "0  2018-10-19 00:00:00               0.21                               6   \n",
              "1  2019-05-21 00:00:00               0.38                               2   \n",
              "2                    0               0.00                               1   \n",
              "3  2019-07-05 00:00:00               4.64                               1   \n",
              "4  2018-11-19 00:00:00               0.10                               1   \n",
              "\n",
              "   availability_365  revenue_generated  \n",
              "0               365                  0  \n",
              "1               355               2250  \n",
              "2               365                  0  \n",
              "3               194              15219  \n",
              "4                 0              29200  "
            ],
            "text/html": [
              "\n",
              "  <div id=\"df-56e1af45-4e98-497b-9e54-4b5242d68be4\">\n",
              "    <div class=\"colab-df-container\">\n",
              "      <div>\n",
              "<style scoped>\n",
              "    .dataframe tbody tr th:only-of-type {\n",
              "        vertical-align: middle;\n",
              "    }\n",
              "\n",
              "    .dataframe tbody tr th {\n",
              "        vertical-align: top;\n",
              "    }\n",
              "\n",
              "    .dataframe thead th {\n",
              "        text-align: right;\n",
              "    }\n",
              "</style>\n",
              "<table border=\"1\" class=\"dataframe\">\n",
              "  <thead>\n",
              "    <tr style=\"text-align: right;\">\n",
              "      <th></th>\n",
              "      <th>id</th>\n",
              "      <th>name</th>\n",
              "      <th>host_id</th>\n",
              "      <th>host_name</th>\n",
              "      <th>neighbourhood_group</th>\n",
              "      <th>neighbourhood</th>\n",
              "      <th>latitude</th>\n",
              "      <th>longitude</th>\n",
              "      <th>room_type</th>\n",
              "      <th>price</th>\n",
              "      <th>minimum_nights</th>\n",
              "      <th>number_of_reviews</th>\n",
              "      <th>last_review</th>\n",
              "      <th>reviews_per_month</th>\n",
              "      <th>calculated_host_listings_count</th>\n",
              "      <th>availability_365</th>\n",
              "      <th>revenue_generated</th>\n",
              "    </tr>\n",
              "  </thead>\n",
              "  <tbody>\n",
              "    <tr>\n",
              "      <th>0</th>\n",
              "      <td>2539</td>\n",
              "      <td>Clean &amp; quiet apt home by the park</td>\n",
              "      <td>2787</td>\n",
              "      <td>John</td>\n",
              "      <td>Brooklyn</td>\n",
              "      <td>Kensington</td>\n",
              "      <td>40.64749</td>\n",
              "      <td>-73.97237</td>\n",
              "      <td>Private room</td>\n",
              "      <td>149</td>\n",
              "      <td>1</td>\n",
              "      <td>9</td>\n",
              "      <td>2018-10-19 00:00:00</td>\n",
              "      <td>0.21</td>\n",
              "      <td>6</td>\n",
              "      <td>365</td>\n",
              "      <td>0</td>\n",
              "    </tr>\n",
              "    <tr>\n",
              "      <th>1</th>\n",
              "      <td>2595</td>\n",
              "      <td>Skylit Midtown Castle</td>\n",
              "      <td>2845</td>\n",
              "      <td>Jennifer</td>\n",
              "      <td>Manhattan</td>\n",
              "      <td>Midtown</td>\n",
              "      <td>40.75362</td>\n",
              "      <td>-73.98377</td>\n",
              "      <td>Entire home/apt</td>\n",
              "      <td>225</td>\n",
              "      <td>1</td>\n",
              "      <td>45</td>\n",
              "      <td>2019-05-21 00:00:00</td>\n",
              "      <td>0.38</td>\n",
              "      <td>2</td>\n",
              "      <td>355</td>\n",
              "      <td>2250</td>\n",
              "    </tr>\n",
              "    <tr>\n",
              "      <th>2</th>\n",
              "      <td>3647</td>\n",
              "      <td>THE VILLAGE OF HARLEM....NEW YORK !</td>\n",
              "      <td>4632</td>\n",
              "      <td>Elisabeth</td>\n",
              "      <td>Manhattan</td>\n",
              "      <td>Harlem</td>\n",
              "      <td>40.80902</td>\n",
              "      <td>-73.94190</td>\n",
              "      <td>Private room</td>\n",
              "      <td>150</td>\n",
              "      <td>3</td>\n",
              "      <td>0</td>\n",
              "      <td>0</td>\n",
              "      <td>0.00</td>\n",
              "      <td>1</td>\n",
              "      <td>365</td>\n",
              "      <td>0</td>\n",
              "    </tr>\n",
              "    <tr>\n",
              "      <th>3</th>\n",
              "      <td>3831</td>\n",
              "      <td>Cozy Entire Floor of Brownstone</td>\n",
              "      <td>4869</td>\n",
              "      <td>LisaRoxanne</td>\n",
              "      <td>Brooklyn</td>\n",
              "      <td>Clinton Hill</td>\n",
              "      <td>40.68514</td>\n",
              "      <td>-73.95976</td>\n",
              "      <td>Entire home/apt</td>\n",
              "      <td>89</td>\n",
              "      <td>1</td>\n",
              "      <td>270</td>\n",
              "      <td>2019-07-05 00:00:00</td>\n",
              "      <td>4.64</td>\n",
              "      <td>1</td>\n",
              "      <td>194</td>\n",
              "      <td>15219</td>\n",
              "    </tr>\n",
              "    <tr>\n",
              "      <th>4</th>\n",
              "      <td>5022</td>\n",
              "      <td>Entire Apt: Spacious Studio/Loft by central park</td>\n",
              "      <td>7192</td>\n",
              "      <td>Laura</td>\n",
              "      <td>Manhattan</td>\n",
              "      <td>East Harlem</td>\n",
              "      <td>40.79851</td>\n",
              "      <td>-73.94399</td>\n",
              "      <td>Entire home/apt</td>\n",
              "      <td>80</td>\n",
              "      <td>10</td>\n",
              "      <td>9</td>\n",
              "      <td>2018-11-19 00:00:00</td>\n",
              "      <td>0.10</td>\n",
              "      <td>1</td>\n",
              "      <td>0</td>\n",
              "      <td>29200</td>\n",
              "    </tr>\n",
              "  </tbody>\n",
              "</table>\n",
              "</div>\n",
              "      <button class=\"colab-df-convert\" onclick=\"convertToInteractive('df-56e1af45-4e98-497b-9e54-4b5242d68be4')\"\n",
              "              title=\"Convert this dataframe to an interactive table.\"\n",
              "              style=\"display:none;\">\n",
              "        \n",
              "  <svg xmlns=\"http://www.w3.org/2000/svg\" height=\"24px\"viewBox=\"0 0 24 24\"\n",
              "       width=\"24px\">\n",
              "    <path d=\"M0 0h24v24H0V0z\" fill=\"none\"/>\n",
              "    <path d=\"M18.56 5.44l.94 2.06.94-2.06 2.06-.94-2.06-.94-.94-2.06-.94 2.06-2.06.94zm-11 1L8.5 8.5l.94-2.06 2.06-.94-2.06-.94L8.5 2.5l-.94 2.06-2.06.94zm10 10l.94 2.06.94-2.06 2.06-.94-2.06-.94-.94-2.06-.94 2.06-2.06.94z\"/><path d=\"M17.41 7.96l-1.37-1.37c-.4-.4-.92-.59-1.43-.59-.52 0-1.04.2-1.43.59L10.3 9.45l-7.72 7.72c-.78.78-.78 2.05 0 2.83L4 21.41c.39.39.9.59 1.41.59.51 0 1.02-.2 1.41-.59l7.78-7.78 2.81-2.81c.8-.78.8-2.07 0-2.86zM5.41 20L4 18.59l7.72-7.72 1.47 1.35L5.41 20z\"/>\n",
              "  </svg>\n",
              "      </button>\n",
              "      \n",
              "  <style>\n",
              "    .colab-df-container {\n",
              "      display:flex;\n",
              "      flex-wrap:wrap;\n",
              "      gap: 12px;\n",
              "    }\n",
              "\n",
              "    .colab-df-convert {\n",
              "      background-color: #E8F0FE;\n",
              "      border: none;\n",
              "      border-radius: 50%;\n",
              "      cursor: pointer;\n",
              "      display: none;\n",
              "      fill: #1967D2;\n",
              "      height: 32px;\n",
              "      padding: 0 0 0 0;\n",
              "      width: 32px;\n",
              "    }\n",
              "\n",
              "    .colab-df-convert:hover {\n",
              "      background-color: #E2EBFA;\n",
              "      box-shadow: 0px 1px 2px rgba(60, 64, 67, 0.3), 0px 1px 3px 1px rgba(60, 64, 67, 0.15);\n",
              "      fill: #174EA6;\n",
              "    }\n",
              "\n",
              "    [theme=dark] .colab-df-convert {\n",
              "      background-color: #3B4455;\n",
              "      fill: #D2E3FC;\n",
              "    }\n",
              "\n",
              "    [theme=dark] .colab-df-convert:hover {\n",
              "      background-color: #434B5C;\n",
              "      box-shadow: 0px 1px 3px 1px rgba(0, 0, 0, 0.15);\n",
              "      filter: drop-shadow(0px 1px 2px rgba(0, 0, 0, 0.3));\n",
              "      fill: #FFFFFF;\n",
              "    }\n",
              "  </style>\n",
              "\n",
              "      <script>\n",
              "        const buttonEl =\n",
              "          document.querySelector('#df-56e1af45-4e98-497b-9e54-4b5242d68be4 button.colab-df-convert');\n",
              "        buttonEl.style.display =\n",
              "          google.colab.kernel.accessAllowed ? 'block' : 'none';\n",
              "\n",
              "        async function convertToInteractive(key) {\n",
              "          const element = document.querySelector('#df-56e1af45-4e98-497b-9e54-4b5242d68be4');\n",
              "          const dataTable =\n",
              "            await google.colab.kernel.invokeFunction('convertToInteractive',\n",
              "                                                     [key], {});\n",
              "          if (!dataTable) return;\n",
              "\n",
              "          const docLinkHtml = 'Like what you see? Visit the ' +\n",
              "            '<a target=\"_blank\" href=https://colab.research.google.com/notebooks/data_table.ipynb>data table notebook</a>'\n",
              "            + ' to learn more about interactive tables.';\n",
              "          element.innerHTML = '';\n",
              "          dataTable['output_type'] = 'display_data';\n",
              "          await google.colab.output.renderOutput(dataTable, element);\n",
              "          const docLink = document.createElement('div');\n",
              "          docLink.innerHTML = docLinkHtml;\n",
              "          element.appendChild(docLink);\n",
              "        }\n",
              "      </script>\n",
              "    </div>\n",
              "  </div>\n",
              "  "
            ]
          },
          "metadata": {},
          "execution_count": 15
        }
      ]
    },
    {
      "cell_type": "code",
      "source": [
        "mean_revenue = airbnb_df.groupby([\"neighbourhood_group\",\"room_type\"])[\"revenue_generated\"].mean().reset_index(name=\"revenue_generated\")\n",
        "plt.figure(figsize=(7,4))\n",
        "sns.barplot(x='neighbourhood_group', y=\"revenue_generated\",hue ='room_type', data=mean_revenue)\n",
        "plt.xticks(rotation = 45,size =10)\n",
        "\n",
        "plt.title('Revenue of room type by different neighbourhood_groups', size = 15)\n",
        "plt.xlabel('Neighbourhood group')\n",
        "plt.ylabel('Revenue Generated over year')\n",
        "\n",
        "plt.rc('font', size=10) #controls default text size\n",
        "plt.rc('axes', titlesize=10) #fontsize of the title\n",
        "plt.rc('axes', labelsize=10) #fontsize of the x and y labels\n",
        "plt.rc('xtick', labelsize=10) #fontsize of the x tick labels\n",
        "plt.rc('ytick', labelsize=10) #fontsize of the y tick labels\n",
        "plt.rc('legend', fontsize=10) #fontsize of the legend\n"
      ],
      "metadata": {
        "colab": {
          "base_uri": "https://localhost:8080/",
          "height": 341
        },
        "id": "kMpDsFAc76YQ",
        "outputId": "0b04da2c-4117-4d7b-cba4-7169c63117df"
      },
      "execution_count": 16,
      "outputs": [
        {
          "output_type": "display_data",
          "data": {
            "text/plain": [
              "<Figure size 504x288 with 1 Axes>"
            ],
            "image/png": "[encoded data removed]"
          },
          "metadata": {
            "needs_background": "light"
          }
        }
      ]
    },
    {
      "cell_type": "markdown",
      "source": [
        "Inference:\n",
        "\n",
        "As we can see that in every neighbourhood \"Entire home\" has generated most revenue. So buying a property \"Entire home\" and renting it, is a profitable business irrespective of neighbourhood type."
      ],
      "metadata": {
        "id": "_SrN39-58ujl"
      }
    },
    {
      "cell_type": "code",
      "source": [
        ""
      ],
      "metadata": {
        "id": "ZuOpKO3T8pHs"
      },
      "execution_count": null,
      "outputs": []
    }
  ]
}